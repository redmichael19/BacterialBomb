{
 "cells": [
  {
   "cell_type": "markdown",
   "metadata": {},
   "source": [
    "# Bacterial Bomb Project"
   ]
  },
  {
   "cell_type": "code",
   "execution_count": 1,
   "metadata": {},
   "outputs": [],
   "source": [
    "# Import the required modules.\n",
    "\n",
    "import csv\n",
    "import sys\n",
    "import matplotlib.pyplot as plt\n",
    "import agentframework\n",
    "import ipywidgets as widgets\n",
    "from ipywidgets import GridspecLayout\n",
    "from IPython.display import display\n",
    "from IPython.display import clear_output"
   ]
  },
  {
   "cell_type": "code",
   "execution_count": 2,
   "metadata": {
    "tags": [
     "hide-input"
    ]
   },
   "outputs": [],
   "source": [
    "def runmodel():\n",
    "    \"\"\"\n",
    "    Run the model.\n",
    "    \"\"\"\n",
    "    \n",
    "    '''\n",
    "    Variable values are set from the widgets.\n",
    "    '''\n",
    "    no_of_bacteria = wid_num_of_bacteria.value\n",
    "    # % Chance of change in height (z) at 75m or above.\n",
    "    abz_increase = wid_abz_increase.value\n",
    "    abz_decrease = wid_abz_decrease.value\n",
    "    abz_remain = wid_abz_remain.value\n",
    "    # % Chance of change in height (z) at below 75m.\n",
    "    bbz_increase = wid_bbz_increase.value\n",
    "    bbz_decrease = wid_bbz_decrease.value\n",
    "    bbz_remain = wid_bbz_remain.value\n",
    "    # % Chance of change x, y direction.\n",
    "    north = wid_north.value\n",
    "    east = wid_east.value\n",
    "    south = wid_south.value\n",
    "    west = wid_west.value\n",
    "    \n",
    "    '''\n",
    "    Checks that the variable values are valid for the model to run.\n",
    "    If not the model is exited and an error message informing the user\n",
    "    is displayed. \n",
    "    '''\n",
    "    errors = 0\n",
    "    if (abz_increase + abz_decrease + abz_remain) != 100:\n",
    "        print(\"Values Up, Remain and Down in 'Turbulence at 75m+' must equal 100. Please alter before running the model again.\")\n",
    "        errors += 1\n",
    "    if (bbz_increase + bbz_decrease + bbz_remain) != 100:\n",
    "        print(\"Values Up, Remain and Down in 'Turbulence below 75m' must equal 100. Please alter before running the model again.\")\n",
    "        errors += 1\n",
    "    if (north + east + south + west) != 100:\n",
    "        print(\"Values North, East, South and West in 'Wind' must equal 100. Please alter before running the model again\")\n",
    "        errors += 1\n",
    "    if errors > 0:\n",
    "        sys.exit()\n",
    "    \n",
    "    \n",
    "    '''\n",
    "    A 2D list is created to store the final location of each bacteria.\n",
    "    2D list is the same size as the wind.raster.txt.\n",
    "    This will be used to create the density map.\n",
    "    ''' \n",
    "    final_bacteria_locations = []\n",
    "    for i in range(300):\n",
    "        rows = []\n",
    "        for j in range(300):\n",
    "            rows.append(0.0)\n",
    "        final_bacteria_locations.append(rows)\n",
    "    \n",
    "    '''\n",
    "    This section relates to the creation and subsequent movement of bacteria agents.\n",
    "    A bacteria agent is created and then passed through the move function until\n",
    "    the z value reaches 0.\n",
    "    Then the code checks if the bacteria has landed within the range of the\n",
    "    final_bacteria_locations 2D list.  If it does then the value corresponding to\n",
    "    the landing coordinates is increased by 1.  Otherwise, 1 is added to the \n",
    "    bacteria_out_of_area variable. \n",
    "    The code then repeats until the specified number of bacteria have been created\n",
    "    and moved. \n",
    "    The bacteria_count variable is responsible for stopping the loop.  When it is \n",
    "    greater than no_of_bacteria this code stops. \n",
    "    \n",
    "    The two print(str(bacteria)) were used to track the movement of the\n",
    "    bacteria agent when testing. \n",
    "    \n",
    "    The number of bacteria out of the area was printed when testing. \n",
    "    '''\n",
    "    bacteria_out_of_area = 0\n",
    "    bacteria_count = 1\n",
    "    while (bacteria_count <= no_of_bacteria):\n",
    "        bacteria = agentframework.Agent(ybomb, xbomb, zbomb)\n",
    "        while (bacteria._z > 0):\n",
    "            bacteria.movev2(abz_increase, abz_decrease, bbz_increase, bbz_decrease, north, south, west)\n",
    "#            print(str(bacteria))\n",
    "        if (bacteria._y >= 0 or bacteria._y <= 299) and (bacteria._x >= 0 or bacteria._x >= 299):\n",
    "            final_bacteria_locations[bacteria._y][bacteria._x] += 1\n",
    "        else:\n",
    "            bacteria_out_of_area += 1\n",
    "        bacteria_count += 1\n",
    "#        print(str(bacteria))\n",
    "#    print(bacteria_out_of_area)\n",
    "\n",
    "    '''\n",
    "    Displays the final bacteria locations.\n",
    "    '''\n",
    "    plt.pcolormesh(final_bacteria_locations)\n",
    "    plt.title(\"Bacteria final locations\")\n",
    "    plt.colorbar()\n",
    "    plt.show()\n",
    "    \n",
    "    '''\n",
    "    Wites the final bacteria locations to a text file. \n",
    "    '''\n",
    "    with open(\"final_bacteria_locations.txt\", \"w\") as f:\n",
    "        for line in final_bacteria_locations:\n",
    "            for value in line:\n",
    "                f.write(str(value) + \",\")\n",
    "            f.write(\"\\n\")"
   ]
  },
  {
   "cell_type": "code",
   "execution_count": 3,
   "metadata": {
    "tags": [
     "hide-input"
    ]
   },
   "outputs": [],
   "source": [
    "# Key default variables.\n",
    "zbomb = 75"
   ]
  },
  {
   "cell_type": "code",
   "execution_count": 4,
   "metadata": {
    "tags": [
     "hide-input"
    ]
   },
   "outputs": [],
   "source": [
    "'''\n",
    "Reads in the wind.raster file as a 2D list.\n",
    "'''\n",
    "bomb_location = []\n",
    "f = open('wind.raster.txt', newline='')\n",
    "reader = csv.reader(f, quoting=csv.QUOTE_NONNUMERIC)\n",
    "for row in reader:\n",
    "    rowlist = []\n",
    "    for value in row:\n",
    "        rowlist.append(value)\n",
    "    bomb_location.append(rowlist)\n",
    "f.close()"
   ]
  },
  {
   "cell_type": "code",
   "execution_count": 5,
   "metadata": {
    "tags": [
     "hide-input"
    ]
   },
   "outputs": [
    {
     "name": "stdout",
     "output_type": "stream",
     "text": [
      "Bomb location: y = 150, x = 50\n"
     ]
    }
   ],
   "source": [
    "'''\n",
    "2D loop of bomb_location to identify the bomb location.\n",
    "Variables ybomb and xbomb are created which are the\n",
    "y and x coordinates respectively.\n",
    "'''\n",
    "\n",
    "for i in range(len(bomb_location)):\n",
    "    for j in range(len(bomb_location[i])):\n",
    "        if bomb_location[i][j] == 255.0:\n",
    "            print(\"Bomb location: y = \" + str(i) + \", x = \" + str(j))\n",
    "            ybomb = i\n",
    "            xbomb = j"
   ]
  },
  {
   "cell_type": "markdown",
   "metadata": {},
   "source": [
    "The following widgets allow you to change important parameters relating to the model."
   ]
  },
  {
   "cell_type": "code",
   "execution_count": 12,
   "metadata": {
    "tags": [
     "hide-input"
    ]
   },
   "outputs": [
    {
     "data": {
      "application/vnd.jupyter.widget-view+json": {
       "model_id": "76c0464c3323485eb69acdc7653b9f0f",
       "version_major": 2,
       "version_minor": 0
      },
      "text/plain": [
       "Tab(children=(VBox(children=(IntSlider(value=20, continuous_update=False, description='Up:'), IntSlider(value=…"
      ]
     },
     "metadata": {},
     "output_type": "display_data"
    },
    {
     "data": {
      "application/vnd.jupyter.widget-view+json": {
       "model_id": "da27acc9aedb4a51ab4c5cd82cc1e26e",
       "version_major": 2,
       "version_minor": 0
      },
      "text/plain": [
       "VBox(children=(Button(description='Run Model', style=ButtonStyle()), Output()))"
      ]
     },
     "metadata": {},
     "output_type": "display_data"
    }
   ],
   "source": [
    "style = {'description_width': 'initial'}\n",
    "\n",
    "wid_num_of_bacteria = widgets.IntText(\n",
    "    value = 5000,\n",
    "    style = style,\n",
    "    description = 'Number of bacteria:')\n",
    "\n",
    "wid_abz_increase = widgets.IntSlider(\n",
    "    value = 20,\n",
    "    min = 0,\n",
    "    max = 100,\n",
    "    step = 1,\n",
    "    description = \"Up:\",\n",
    "    disabled = False,\n",
    "    continuous_update = False,\n",
    "    orientation = 'horizontal',\n",
    "    readout = True,\n",
    "    readout_format = 'd')\n",
    "\n",
    "wid_abz_remain = widgets.IntSlider(\n",
    "    value = 10,\n",
    "    min = 0,\n",
    "    max = 100,\n",
    "    step = 1,\n",
    "    description = \"Remain:\",\n",
    "    disabled = False,\n",
    "    continuous_update = False,\n",
    "    orientation = 'horizontal',\n",
    "    readout = True,\n",
    "    readout_format = 'd')\n",
    "\n",
    "wid_abz_decrease = widgets.IntSlider(\n",
    "    value = 70,\n",
    "    min = 0,\n",
    "    max = 100,\n",
    "    step = 1,\n",
    "    description = \"Down:\",\n",
    "    disabled = False,\n",
    "    continuous_update = False,\n",
    "    orientation = 'horizontal',\n",
    "    readout = True,\n",
    "    readout_format = 'd')\n",
    "\n",
    "wid_bbz_increase = widgets.IntSlider(\n",
    "    value = 0,\n",
    "    min = 0,\n",
    "    max = 100,\n",
    "    step = 1,\n",
    "    description = \"Up:\",\n",
    "    disabled = False,\n",
    "    continuous_update = False,\n",
    "    orientation = 'horizontal',\n",
    "    readout = True,\n",
    "    readout_format = 'd')\n",
    "\n",
    "wid_bbz_remain = widgets.IntSlider(\n",
    "    value = 0,\n",
    "    min = 0,\n",
    "    max = 100,\n",
    "    step = 1,\n",
    "    description = \"Remain:\",\n",
    "    disabled = False,\n",
    "    continuous_update = False,\n",
    "    orientation = 'horizontal',\n",
    "    readout = True,\n",
    "    readout_format = 'd')\n",
    "\n",
    "wid_bbz_decrease = widgets.IntSlider(\n",
    "    value = 100,\n",
    "    min = 0,\n",
    "    max = 100,\n",
    "    step = 1,\n",
    "    description = \"Down:\",\n",
    "    disabled = False,\n",
    "    continuous_update = False,\n",
    "    orientation = 'horizontal',\n",
    "    readout = True,\n",
    "    readout_format = 'd')\n",
    "\n",
    "wid_north = widgets.IntSlider(\n",
    "    value = 10,\n",
    "    min = 0,\n",
    "    max = 100,\n",
    "    step = 1,\n",
    "    description = \"North:\",\n",
    "    disabled = False,\n",
    "    continuous_update = False,\n",
    "    orientation = 'horizontal',\n",
    "    readout = True,\n",
    "    readout_format = 'd')\n",
    "\n",
    "wid_east = widgets.IntSlider(\n",
    "    value = 75,\n",
    "    min = 0,\n",
    "    max = 100,\n",
    "    step = 1,\n",
    "    description = \"East:\",\n",
    "    disabled = False,\n",
    "    continuous_update = False,\n",
    "    orientation = 'horizontal',\n",
    "    readout = True,\n",
    "    readout_format = 'd')\n",
    "\n",
    "wid_south = widgets.IntSlider(\n",
    "    value = 10,\n",
    "    min = 0,\n",
    "    max = 100,\n",
    "    step = 1,\n",
    "    description = \"South:\",\n",
    "    disabled = False,\n",
    "    continuous_update = False,\n",
    "    orientation = 'horizontal',\n",
    "    readout = True,\n",
    "    readout_format = 'd')\n",
    "\n",
    "wid_west = widgets.IntSlider(\n",
    "    value = 5,\n",
    "    min = 0,\n",
    "    max = 100,\n",
    "    step = 1,\n",
    "    description = \"West:\",\n",
    "    disabled = False,\n",
    "    continuous_update = False,\n",
    "    orientation = 'horizontal',\n",
    "    readout = True,\n",
    "    readout_format = 'd')\n",
    "\n",
    "box = widgets.VBox([wid_abz_increase, wid_abz_remain, wid_abz_decrease])\n",
    "box2 = widgets.VBox([wid_north, wid_east, wid_south, wid_west])\n",
    "box3 = widgets.VBox([wid_num_of_bacteria])\n",
    "box4 = widgets.VBox([wid_bbz_increase, wid_bbz_remain, wid_bbz_decrease])\n",
    "\n",
    "contents = [box, box4, box2, box3]\n",
    "tab = widgets.Tab()\n",
    "tab.children = contents\n",
    "tab.set_title(0, \"Turbulence z >= 75m\")\n",
    "tab.set_title(1, \"Turbulence z < 75m\")\n",
    "tab.set_title(2, \"Wind\")\n",
    "tab.set_title(3, \"Bacteria\")\n",
    "display(tab)\n",
    "\n",
    "button = widgets.Button(description=\"Run Model\")\n",
    "out = widgets.Output()\n",
    "\n",
    "def on_button_clicked(_):\n",
    "    with out:\n",
    "        clear_output(wait=True)\n",
    "        runmodel()\n",
    "\n",
    "button.on_click(on_button_clicked)\n",
    "widgets.VBox([button, out])"
   ]
  }
 ],
 "metadata": {
  "celltoolbar": "Tags",
  "kernelspec": {
   "display_name": "Python 3",
   "language": "python",
   "name": "python3"
  },
  "language_info": {
   "codemirror_mode": {
    "name": "ipython",
    "version": 3
   },
   "file_extension": ".py",
   "mimetype": "text/x-python",
   "name": "python",
   "nbconvert_exporter": "python",
   "pygments_lexer": "ipython3",
   "version": "3.8.5"
  }
 },
 "nbformat": 4,
 "nbformat_minor": 4
}
